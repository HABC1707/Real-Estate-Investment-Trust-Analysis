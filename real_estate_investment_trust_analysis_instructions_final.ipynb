{
 "cells": [
  {
   "cell_type": "markdown",
   "metadata": {},
   "source": [
    "# REIT STOCK ANALYSIS"
   ]
  },
  {
   "cell_type": "markdown",
   "metadata": {},
   "source": [
    "In this project, I will analyze Real Estate Investment Trusts, commonly known as REITs. REITs are companies that own or operate real estate that produces income. REITs, like the stocks of regular public companies, are traded on different stock exchanges. Investing in a REIT allows you to invest in portfolios of real estate assets the same way you can invest in a company by buying its stock.\n",
    "\n",
    "Using financial statistics and NumPy I will analyze two REITs: [Sabra Health Care REIT Inc. (NASDAQ: SBRA)](https://finance.yahoo.com/quote/SBRA/), which invests in health care real estate, and [Equity Residential (NASDAQ:EQR)](https://finance.yahoo.com/quote/EQR/), which invests in rental apartment properties."
   ]
  },
  {
   "cell_type": "markdown",
   "metadata": {},
   "source": [
    "The time period for analysis we will be using is `January 2019` to `Jun 2019`. The REIT data for SBRA (`SBRA.csv`) and EQR (`EQR.csv`) can be found in the same folder as this file."
   ]
  },
  {
   "cell_type": "markdown",
   "metadata": {},
   "source": [
    "1. Import the numpy module as np"
   ]
  },
  {
   "cell_type": "code",
   "execution_count": 149,
   "metadata": {},
   "outputs": [],
   "source": [
    "import numpy as np\n",
    "\n",
    "#format arrays to two decimals\n",
    "np.set_printoptions(precision=2, suppress=True)"
   ]
  },
  {
   "cell_type": "markdown",
   "metadata": {},
   "source": [
    "2. Load the adjusted closings for SBRA"
   ]
  },
  {
   "cell_type": "code",
   "execution_count": 150,
   "metadata": {},
   "outputs": [
    {
     "name": "stdout",
     "output_type": "stream",
     "text": [
      "[15.36 16.01 16.53 16.88 17.43 17.52 17.51 17.43 17.26 17.42 17.85 18.11\n",
      " 18.34 18.31 18.5  18.78 19.09 19.39 19.38 19.56 19.64 19.43 19.66 19.54\n",
      " 19.64 19.81 19.65 19.61 19.36 19.33 19.34 19.54 19.39 19.24 19.22 19.14\n",
      " 18.64 18.38 18.04 17.72 17.32 17.25 17.26 17.15 17.12 17.07 17.38 17.61\n",
      " 17.94 17.97 17.89 17.73 17.77 17.98 18.59 18.29 18.45 18.76 18.87 19.19\n",
      " 19.04 18.9  18.88 18.69 18.76 18.96 18.87 18.8  19.05 19.24 19.24 19.22\n",
      " 18.82 18.36 18.71 18.41 18.71 18.91 18.91 19.15 18.97 19.12 19.09 19.14\n",
      " 19.55 19.46 19.14 19.32 18.84 19.31 19.24 19.42 19.57 19.75 19.71 19.53\n",
      " 19.73 19.7  19.71 19.75 19.54 19.22 19.37 19.29 19.24 19.1  19.32 19.45\n",
      " 19.49 19.32 19.29 19.32 19.48 19.43 19.79 19.58 20.14 20.05 19.57 19.31\n",
      " 19.26 18.87 19.45 19.69]\n"
     ]
    }
   ],
   "source": [
    "#loadtxt parameter to use adjusted closing prices for SBRA\n",
    "adj_closings_sbra = np.loadtxt('SBRA.csv', delimiter =',', usecols = 5, skiprows = 1)\n",
    "print(adj_closings_sbra)"
   ]
  },
  {
   "cell_type": "markdown",
   "metadata": {},
   "source": [
    "3. Load the adjusted closings for EQR"
   ]
  },
  {
   "cell_type": "code",
   "execution_count": 151,
   "metadata": {},
   "outputs": [
    {
     "name": "stdout",
     "output_type": "stream",
     "text": [
      "[62.8  63.19 63.59 64.12 65.32 65.32 66.4  66.53 66.61 67.43 68.04 68.86\n",
      " 69.06 69.34 69.28 69.29 69.61 70.64 71.28 70.92 71.47 70.94 71.69 71.85\n",
      " 71.9  72.43 72.34 72.35 71.45 72.19 72.02 72.11 72.42 71.59 72.75 73.11\n",
      " 72.39 72.61 72.23 72.58 72.39 72.87 72.82 72.44 72.33 72.53 73.32 73.92\n",
      " 73.78 73.93 73.64 72.87 72.39 72.51 73.66 73.84 73.91 74.58 74.42 75.06\n",
      " 74.75 74.42 75.12 74.82 74.71 75.04 74.99 74.82 75.78 76.11 76.87 77.02\n",
      " 75.16 73.73 74.51 73.61 74.4  74.9  75.4  75.63 74.73 75.85 75.95 75.83\n",
      " 76.01 75.64 74.21 73.88 74.26 75.26 75.27 75.24 75.62 76.23 76.04 75.18\n",
      " 75.79 76.06 76.53 76.61 75.64 75.1  75.25 76.   75.67 74.91 76.67 77.21\n",
      " 77.39 77.25 77.22 77.07 77.34 77.67 78.08 77.46 77.84 78.24 77.44 77.68\n",
      " 76.33 75.08 75.61 75.92]\n"
     ]
    }
   ],
   "source": [
    "#loadtxt parameter to use adjusted closing prices for EQR\n",
    "adj_closings_eqr = np.loadtxt('EQR.csv', delimiter =',', usecols = 5, skiprows = 1)\n",
    "print(adj_closings_eqr)"
   ]
  },
  {
   "cell_type": "markdown",
   "metadata": {},
   "source": [
    "## Simple Rate of Return Function"
   ]
  },
  {
   "cell_type": "markdown",
   "metadata": {},
   "source": [
    "4. To calculate the daily rate of return for the SBRA stock, we need the daily adjusted closing price. The formula we are using for the daily rate of return is out[n] = a[n+1] - a[n] "
   ]
  },
  {
   "cell_type": "markdown",
   "metadata": {},
   "source": [
    "5. Function that returns the daily rate of return\n",
    "\n",
    "    step 1. define a function named `rate_of_return`\n",
    "    \n",
    "    step 2. create parameter for  `adj_closings`\n",
    "    \n",
    "    step 3. Within the function use np.diff() and set it to the variable `daily_simple_ror`\n",
    "    \n",
    "    step 4. return `daily_simple_ror`"
   ]
  },
  {
   "cell_type": "code",
   "execution_count": 152,
   "metadata": {},
   "outputs": [],
   "source": [
    "def simple_rate_of_return(adj_closings):\n",
    "    daily_simple_ror = np.diff(adj_closings)/adj_closings[:-1]\n",
    "    return daily_simple_ror\n",
    "\n",
    "#Set returns to percentage % format with 6 decimals\n",
    "np.set_printoptions(formatter={'float': '{: 0.6f}%'.format})"
   ]
  },
  {
   "cell_type": "markdown",
   "metadata": {},
   "source": [
    "## Calculate Daily Rate of Return for SBRA"
   ]
  },
  {
   "cell_type": "markdown",
   "metadata": {},
   "source": [
    "6. Call the function `simple_rate_of_return` with the arguments `adj_closings_sbra`. Then print the results. "
   ]
  },
  {
   "cell_type": "code",
   "execution_count": 153,
   "metadata": {},
   "outputs": [
    {
     "name": "stdout",
     "output_type": "stream",
     "text": [
      "[ 0.042315%  0.032239%  0.021400%  0.032276%  0.005485% -0.000546%\n",
      " -0.004913% -0.009325%  0.008859%  0.024698%  0.014462%  0.013200%\n",
      " -0.002084%  0.010444%  0.014987%  0.016803%  0.015523% -0.000493%\n",
      "  0.009373%  0.003910% -0.010711%  0.012303% -0.006320%  0.004892%\n",
      "  0.008763% -0.007722% -0.002432% -0.012677% -0.001481%  0.000506%\n",
      "  0.010617% -0.008004% -0.007564% -0.001016% -0.004069% -0.026558%\n",
      " -0.013641% -0.018617% -0.017886% -0.022627% -0.003953%  0.000567%\n",
      " -0.006232% -0.001710% -0.002856%  0.018328%  0.012936%  0.018878%\n",
      "  0.001635% -0.004353% -0.009290%  0.002206%  0.012108%  0.033714%\n",
      " -0.015781%  0.008552%  0.016958%  0.005732%  0.017098% -0.008151%\n",
      " -0.007190% -0.001035% -0.009839%  0.003661%  0.010422% -0.004642%\n",
      " -0.003627%  0.013001%  0.010267%  0.000000% -0.001016% -0.020855%\n",
      " -0.024416%  0.019169% -0.016196%  0.016463%  0.010449%  0.000000%\n",
      "  0.012927% -0.009699%  0.008247% -0.001534%  0.002560%  0.021450%\n",
      " -0.005000% -0.016080%  0.009193% -0.024798%  0.024909% -0.003544%\n",
      "  0.009146%  0.008056%  0.008991% -0.002025% -0.009132%  0.010241%\n",
      " -0.001520%  0.000508%  0.002029% -0.010633% -0.016377%  0.007804%\n",
      " -0.004130% -0.002592% -0.007277%  0.011518%  0.006729%  0.002057%\n",
      " -0.008722% -0.001553%  0.001555%  0.008282% -0.002567%  0.018528%\n",
      " -0.010611%  0.028601% -0.004469% -0.023940% -0.013286% -0.002589%\n",
      " -0.020249%  0.030737%  0.012339%]\n"
     ]
    }
   ],
   "source": [
    "daily_simple_returns_sbra = simple_rate_of_return(adj_closings_sbra)\n",
    "print(daily_simple_returns_sbra)"
   ]
  },
  {
   "cell_type": "markdown",
   "metadata": {},
   "source": [
    "## Calculate Daily Rate of Return for EQR"
   ]
  },
  {
   "cell_type": "markdown",
   "metadata": {},
   "source": [
    "7. Call the function `simple_rate_of_return` with the arguments `adj_closings_eqr`. Then print the results. "
   ]
  },
  {
   "cell_type": "code",
   "execution_count": 154,
   "metadata": {
    "scrolled": true
   },
   "outputs": [
    {
     "name": "stdout",
     "output_type": "stream",
     "text": [
      "[ 0.006274%  0.006234%  0.008364%  0.018741%  0.000000%  0.016435%\n",
      "  0.002077%  0.001184%  0.012273%  0.009056%  0.012015%  0.003004%\n",
      "  0.003993% -0.000852%  0.000142%  0.004549%  0.014858%  0.009063%\n",
      " -0.005113%  0.007778% -0.007442%  0.010691%  0.002198%  0.000685%\n",
      "  0.007397% -0.001360%  0.000272% -0.012524%  0.010339% -0.002319%\n",
      "  0.001231%  0.004371% -0.011560%  0.016236%  0.005009% -0.009834%\n",
      "  0.002993% -0.005290%  0.004909% -0.002578%  0.006531% -0.000676%\n",
      " -0.005140% -0.001632%  0.002860%  0.010864%  0.008194% -0.001865%\n",
      "  0.002002% -0.003997% -0.010433% -0.006488%  0.001633%  0.015892%\n",
      "  0.002398%  0.000941%  0.008997% -0.002129%  0.008669% -0.004099%\n",
      " -0.004514%  0.009469% -0.003964% -0.001459%  0.004384% -0.000661%\n",
      " -0.002250%  0.012734%  0.004453%  0.009910%  0.001937% -0.024098%\n",
      " -0.019015%  0.010499% -0.011989%  0.010651%  0.006804%  0.006625%\n",
      "  0.003027% -0.011811%  0.014874%  0.001309% -0.001568%  0.002487%\n",
      " -0.004961% -0.018895% -0.004413%  0.005105%  0.013499%  0.000132%\n",
      " -0.000396%  0.005013%  0.008137% -0.002474% -0.011355%  0.008053%\n",
      "  0.003667%  0.006133%  0.001037% -0.012696% -0.007086%  0.001982%\n",
      "  0.009892% -0.004310% -0.009968%  0.023450%  0.006990%  0.002442%\n",
      " -0.001924% -0.000385% -0.001928%  0.003606%  0.004235%  0.005239%\n",
      " -0.007881%  0.004869%  0.005100% -0.010148%  0.003076% -0.017376%\n",
      " -0.016383%  0.007032%  0.004100%]\n"
     ]
    }
   ],
   "source": [
    "daily_simple_returns_eqr = simple_rate_of_return(adj_closings_eqr)\n",
    "print(daily_simple_returns_eqr)"
   ]
  },
  {
   "cell_type": "markdown",
   "metadata": {},
   "source": [
    "## Calculate Average Daily Return for SBRA"
   ]
  },
  {
   "cell_type": "markdown",
   "metadata": {},
   "source": [
    "8. `np.mean()` with the argument `daily_simple_returns_sbra` to calculate the average daily return for SBRA. Then set it to the variable name `average_daily_simple_return_sbra`"
   ]
  },
  {
   "cell_type": "code",
   "execution_count": 155,
   "metadata": {},
   "outputs": [],
   "source": [
    "average_daily_simple_return_sbra = np.mean(daily_simple_returns_sbra)"
   ]
  },
  {
   "cell_type": "markdown",
   "metadata": {},
   "source": [
    "## Calculate Average Daily Return for EQR"
   ]
  },
  {
   "cell_type": "markdown",
   "metadata": {},
   "source": [
    "9. `np.mean()` with the argument `daily_simple_returns_eqr` to calculate the average daily return for EQR. Then set it to the variable name `average_daily_simple_return_eqr`"
   ]
  },
  {
   "cell_type": "code",
   "execution_count": 156,
   "metadata": {},
   "outputs": [],
   "source": [
    "average_daily_simple_return_eqr = np.mean(daily_simple_returns_eqr)"
   ]
  },
  {
   "cell_type": "markdown",
   "metadata": {},
   "source": [
    "## Compare the Average Daily Return between EQR and SBRA"
   ]
  },
  {
   "cell_type": "markdown",
   "metadata": {},
   "source": [
    "10. Based on the average daily simple returns of EQR and SBRA, which stock is more likely to be profitable in the future?"
   ]
  },
  {
   "cell_type": "code",
   "execution_count": 157,
   "metadata": {},
   "outputs": [
    {
     "name": "stdout",
     "output_type": "stream",
     "text": [
      "SBRA average daily return is 0.21% and EQR average daily rturn is 0.16%\n"
     ]
    }
   ],
   "source": [
    "print('SBRA average daily return is','{:.2f}%'.format(average_daily_simple_return_sbra*100),\n",
    "      'and EQR average daily rturn is','{:.2f}%'.format(average_daily_simple_return_eqr*100))"
   ]
  },
  {
   "cell_type": "markdown",
   "metadata": {},
   "source": [
    "## Daily Log Returns Function"
   ]
  },
  {
   "cell_type": "markdown",
   "metadata": {},
   "source": [
    "11. Function that returns the daily rate of return\n",
    "\n",
    "    step 1. define a function named log_returns\n",
    "    \n",
    "    step 2. create parameter for  `adj_closings`\n",
    "    \n",
    "    step 3. use np.log() to get the log of each adjusted closing price and set it to the variable `log_adj_closings`\n",
    "    \n",
    "    step 4. use np.diff() to get the diff of each daily log adjusted closing price and set it to the variable `daily_log_returns`\n",
    "    \n",
    "    step 5. return `daily_log_returns`"
   ]
  },
  {
   "cell_type": "code",
   "execution_count": 158,
   "metadata": {},
   "outputs": [],
   "source": [
    "def log_returns(adj_closings):\n",
    "    log_adj_closings = np.log(adj_closings)\n",
    "    daily_log_returns = np.diff(log_adj_closings)\n",
    "    return daily_log_returns"
   ]
  },
  {
   "cell_type": "markdown",
   "metadata": {},
   "source": [
    "## Calculate Daily Log Returns for SBRA"
   ]
  },
  {
   "cell_type": "markdown",
   "metadata": {},
   "source": [
    "12. Call the function `log_returns` with the arguments `adj_closings_sbra`. Set it to the variable `daily_log_returns_sbra`. Then print the results. "
   ]
  },
  {
   "cell_type": "code",
   "execution_count": 159,
   "metadata": {
    "scrolled": true
   },
   "outputs": [
    {
     "name": "stdout",
     "output_type": "stream",
     "text": [
      "[ 0.041444%  0.031730%  0.021174%  0.031766%  0.005470% -0.000546%\n",
      " -0.004925% -0.009369%  0.008820%  0.024398%  0.014358%  0.013113%\n",
      " -0.002087%  0.010390%  0.014876%  0.016663%  0.015404% -0.000493%\n",
      "  0.009330%  0.003903% -0.010769%  0.012228% -0.006340%  0.004880%\n",
      "  0.008725% -0.007752% -0.002435% -0.012758% -0.001482%  0.000506%\n",
      "  0.010561% -0.008036% -0.007593% -0.001017% -0.004077% -0.026917%\n",
      " -0.013735% -0.018792% -0.018048% -0.022887% -0.003960%  0.000567%\n",
      " -0.006252% -0.001712% -0.002860%  0.018162%  0.012853%  0.018702%\n",
      "  0.001633% -0.004362% -0.009333%  0.002204%  0.012035%  0.033158%\n",
      " -0.015907%  0.008515%  0.016816%  0.005716%  0.016954% -0.008184%\n",
      " -0.007216% -0.001035% -0.009888%  0.003654%  0.010368% -0.004652%\n",
      " -0.003634%  0.012917%  0.010215%  0.000000% -0.001017% -0.021075%\n",
      " -0.024719%  0.018988% -0.016329%  0.016329%  0.010395%  0.000000%\n",
      "  0.012844% -0.009746%  0.008214% -0.001535%  0.002557%  0.021224%\n",
      " -0.005013% -0.016211%  0.009151% -0.025110%  0.024604% -0.003551%\n",
      "  0.009105%  0.008024%  0.008951% -0.002027% -0.009174%  0.010189%\n",
      " -0.001522%  0.000507%  0.002027% -0.010690% -0.016512%  0.007774%\n",
      " -0.004139% -0.002595% -0.007303%  0.011452%  0.006706%  0.002054%\n",
      " -0.008761% -0.001554%  0.001554%  0.008247% -0.002570%  0.018359%\n",
      " -0.010668%  0.028199% -0.004479% -0.024231% -0.013375% -0.002593%\n",
      " -0.020457%  0.030274%  0.012264%]\n"
     ]
    }
   ],
   "source": [
    "daily_log_returns_sbra = log_returns(adj_closings_sbra)\n",
    "print(daily_log_returns_sbra)"
   ]
  },
  {
   "cell_type": "markdown",
   "metadata": {},
   "source": [
    "## Calculate Daily Log Returns for EQR"
   ]
  },
  {
   "cell_type": "markdown",
   "metadata": {},
   "source": [
    "13. Call the function `log_returns` with the arguments `adj_closings_eqr`. Set it to the variable `daily_log_returns_eqr`. Then print the results. "
   ]
  },
  {
   "cell_type": "code",
   "execution_count": 160,
   "metadata": {},
   "outputs": [
    {
     "name": "stdout",
     "output_type": "stream",
     "text": [
      "[ 0.006254%  0.006215%  0.008329%  0.018567%  0.000000%  0.016302%\n",
      "  0.002075%  0.001184%  0.012198%  0.009016%  0.011943%  0.002999%\n",
      "  0.003985% -0.000853%  0.000142%  0.004538%  0.014749%  0.009022%\n",
      " -0.005126%  0.007748% -0.007470%  0.010635%  0.002196%  0.000685%\n",
      "  0.007370% -0.001361%  0.000272% -0.012603%  0.010286% -0.002322%\n",
      "  0.001230%  0.004361% -0.011627%  0.016105%  0.004997% -0.009883%\n",
      "  0.002989% -0.005304%  0.004897% -0.002582%  0.006509% -0.000676%\n",
      " -0.005153% -0.001633%  0.002856%  0.010805%  0.008161% -0.001867%\n",
      "  0.002000% -0.004005% -0.010488% -0.006509%  0.001631%  0.015767%\n",
      "  0.002395%  0.000940%  0.008957% -0.002132%  0.008632% -0.004107%\n",
      " -0.004524%  0.009425% -0.003971% -0.001460%  0.004374% -0.000661%\n",
      " -0.002252%  0.012653%  0.004443%  0.009861%  0.001935% -0.024393%\n",
      " -0.019198%  0.010445% -0.012061%  0.010595%  0.006781%  0.006603%\n",
      "  0.003023% -0.011881%  0.014764%  0.001308% -0.001569%  0.002484%\n",
      " -0.004974% -0.019076% -0.004423%  0.005092%  0.013409%  0.000132%\n",
      " -0.000396%  0.005000%  0.008104% -0.002477% -0.011420%  0.008020%\n",
      "  0.003660%  0.006114%  0.001037% -0.012777% -0.007111%  0.001980%\n",
      "  0.009843% -0.004319% -0.010018%  0.023179%  0.006966%  0.002440%\n",
      " -0.001925% -0.000386% -0.001930%  0.003599%  0.004226%  0.005225%\n",
      " -0.007912%  0.004857%  0.005087% -0.010200%  0.003071% -0.017528%\n",
      " -0.016518%  0.007008%  0.004092%]\n"
     ]
    }
   ],
   "source": [
    "daily_log_returns_eqr = log_returns(adj_closings_eqr)\n",
    "print(daily_log_returns_eqr)"
   ]
  },
  {
   "cell_type": "markdown",
   "metadata": {},
   "source": [
    "## Annualize Daily Log Return Function"
   ]
  },
  {
   "cell_type": "markdown",
   "metadata": {},
   "source": [
    "14. Function that returns the daily rate of return\n",
    "\n",
    "    step 1. define a function named `annualize_log_return`\n",
    "    \n",
    "    step 2. create parameter for  `daily_log_returns`\n",
    "    \n",
    "    step 3. use `np.mean()` with the argument `daily_log_returns` to calculate the average daily return. Then set it to the variable name `average_daily_log_returns`\n",
    "    \n",
    "    step 4. then multiply `average_daily_log_returns` by 250 and set it to the variable `annualized_log_return`\n",
    "    \n",
    "    step 5. return `annualized_log_return`"
   ]
  },
  {
   "cell_type": "code",
   "execution_count": 161,
   "metadata": {},
   "outputs": [],
   "source": [
    "def annualize_log_return(daily_log_returns):\n",
    "    average_daily_log_returns = np.mean(daily_log_returns)\n",
    "    annualized_log_return = average_daily_log_returns * 250\n",
    "    return annualized_log_return"
   ]
  },
  {
   "cell_type": "markdown",
   "metadata": {},
   "source": [
    "## Calculate Annualize Daily Log Return for SBRA"
   ]
  },
  {
   "cell_type": "markdown",
   "metadata": {},
   "source": [
    "10. Call the function `annualize_log_return` with the arguments `daily_log_returns_sbra`. Set it to the variable `annualized_log_return_sbra`. Then print the results. "
   ]
  },
  {
   "cell_type": "code",
   "execution_count": 162,
   "metadata": {},
   "outputs": [
    {
     "name": "stdout",
     "output_type": "stream",
     "text": [
      "The annualized return for SBRA is 50.45%\n"
     ]
    }
   ],
   "source": [
    "annualized_log_return_sbra = annualize_log_return(daily_log_returns_sbra)\n",
    "print('The annualized return for SBRA is','{:.2f}%'.format(annualized_log_return_sbra*100))"
   ]
  },
  {
   "cell_type": "markdown",
   "metadata": {},
   "source": [
    "## Calculate Annualize Daily Log Return for EQR"
   ]
  },
  {
   "cell_type": "markdown",
   "metadata": {},
   "source": [
    "11. Call the function `annualize_log_return` with the arguments `daily_log_returns_eqr`. Set it to the variable `annualized_log_return_eqr`. Then print the results. "
   ]
  },
  {
   "cell_type": "code",
   "execution_count": 163,
   "metadata": {},
   "outputs": [
    {
     "name": "stdout",
     "output_type": "stream",
     "text": [
      "The annualized return for EQR is 38.56%\n"
     ]
    }
   ],
   "source": [
    "annualized_log_return_eqr = annualize_log_return(daily_log_returns_eqr)\n",
    "print('The annualized return for EQR is','{:.2f}%'.format(annualized_log_return_eqr*100))"
   ]
  },
  {
   "cell_type": "markdown",
   "metadata": {},
   "source": [
    "## Calculate Variance of Daily Log Return for SBRA"
   ]
  },
  {
   "cell_type": "markdown",
   "metadata": {},
   "source": [
    "13. Calculate the variance of the daily logarithmetic return for SBRA. Use the function `.var()` with the argument `log_daily_ror`. Set it to the variable `daily_varaince_sbra`. Then print the results. "
   ]
  },
  {
   "cell_type": "code",
   "execution_count": 172,
   "metadata": {},
   "outputs": [
    {
     "name": "stdout",
     "output_type": "stream",
     "text": [
      "SBRA daily variance is 0.017844%\n"
     ]
    }
   ],
   "source": [
    "daily_varaince_sbra = np.var(daily_log_returns_sbra)\n",
    "print('SBRA daily variance is','{:.6f}%'.format(daily_varaince_sbra*100))"
   ]
  },
  {
   "cell_type": "markdown",
   "metadata": {},
   "source": [
    "## Calculate Variance of Daily Log Return for EQR"
   ]
  },
  {
   "cell_type": "markdown",
   "metadata": {},
   "source": [
    "14. Calculate the variance of the daily logarithmetic return for EQR. Use the function `.var()` with the argument `daily_log_returns_eqr`. Set it to the variable `daily_varaince_eqr`. Then print the results. "
   ]
  },
  {
   "cell_type": "code",
   "execution_count": 171,
   "metadata": {},
   "outputs": [
    {
     "name": "stdout",
     "output_type": "stream",
     "text": [
      "EQR daily variance is 0.006834%\n"
     ]
    }
   ],
   "source": [
    "daily_varaince_eqr =  np.var(daily_log_returns_eqr)\n",
    "print('EQR daily variance is','{:.6f}%'.format(daily_varaince_eqr*100))"
   ]
  },
  {
   "cell_type": "markdown",
   "metadata": {},
   "source": [
    "## Calculate the Daily Standard Deviation for SBRA"
   ]
  },
  {
   "cell_type": "markdown",
   "metadata": {},
   "source": [
    "16. Calculate the Standard Deviation of the daily logarithmetic return for SBRA. Use the function `.std()` with the argument `daily_log_returns_sbra`. Set it to the variable `daily_sd_sbra`. Then print the results. "
   ]
  },
  {
   "cell_type": "code",
   "execution_count": 173,
   "metadata": {},
   "outputs": [
    {
     "name": "stdout",
     "output_type": "stream",
     "text": [
      "The daily standard deviation of SBRA is 1.335823%\n"
     ]
    }
   ],
   "source": [
    "daily_sd_sbra = np.std(daily_log_returns_sbra)\n",
    "print('The daily standard deviation of SBRA is','{:.6f}%'.format(daily_sd_sbra*100))"
   ]
  },
  {
   "cell_type": "markdown",
   "metadata": {},
   "source": [
    "## Calculate the Daily Standard Deviation for EQR"
   ]
  },
  {
   "cell_type": "markdown",
   "metadata": {},
   "source": [
    "17. Calculate the Standard Deviation of the daily logarithmetic return for EQR. Use the function `.std()` with the argument `daily_log_returns_eqr`. Set it to the variable `daily_sd_eqr`. Then print the results. "
   ]
  },
  {
   "cell_type": "code",
   "execution_count": 174,
   "metadata": {},
   "outputs": [
    {
     "name": "stdout",
     "output_type": "stream",
     "text": [
      "The daily standard deviation of EQR is 0.826673%\n"
     ]
    }
   ],
   "source": [
    "daily_sd_eqr = np.std(daily_log_returns_eqr)\n",
    "print('The daily standard deviation of EQR is','{:.6f}%'.format(daily_sd_eqr*100))"
   ]
  },
  {
   "cell_type": "markdown",
   "metadata": {},
   "source": [
    "## Calculate the Correlation between SBRA and EQR"
   ]
  },
  {
   "cell_type": "markdown",
   "metadata": {},
   "source": [
    "19. Calculate the Correlation of the daily logarithmetic return between SBRA and ERQ assets. Use the function `.corrcoef()` with the arguments `daily_log_returns_sbra` and `daily_log_returns_eqr`. Set it to the variable `corr_sbra_eqr`. Then print the results. "
   ]
  },
  {
   "cell_type": "code",
   "execution_count": 176,
   "metadata": {},
   "outputs": [
    {
     "name": "stdout",
     "output_type": "stream",
     "text": [
      "SBRA and EQR are positively corrolated, due that their are reits but from different sectors\n",
      "[[ 1.000000%  0.620966%]\n",
      " [ 0.620966%  1.000000%]]\n"
     ]
    }
   ],
   "source": [
    "corr_sbra_eqr = np.corrcoef(daily_log_returns_sbra, daily_log_returns_eqr)\n",
    "print('SBRA and EQR are positively corrolated, due that their are reits but from different sectors') \n",
    "print(corr_sbra_eqr)"
   ]
  }
 ],
 "metadata": {
  "kernelspec": {
   "display_name": "Python 3",
   "language": "python",
   "name": "python3"
  },
  "language_info": {
   "codemirror_mode": {
    "name": "ipython",
    "version": 3
   },
   "file_extension": ".py",
   "mimetype": "text/x-python",
   "name": "python",
   "nbconvert_exporter": "python",
   "pygments_lexer": "ipython3",
   "version": "3.8.8"
  },
  "latex_envs": {
   "LaTeX_envs_menu_present": true,
   "autoclose": false,
   "autocomplete": true,
   "bibliofile": "biblio.bib",
   "cite_by": "apalike",
   "current_citInitial": 1,
   "eqLabelWithNumbers": true,
   "eqNumInitial": 1,
   "hotkeys": {
    "equation": "Ctrl-E",
    "itemize": "Ctrl-I"
   },
   "labels_anchors": false,
   "latex_user_defs": false,
   "report_style_numbering": false,
   "user_envs_cfg": false
  }
 },
 "nbformat": 4,
 "nbformat_minor": 2
}
